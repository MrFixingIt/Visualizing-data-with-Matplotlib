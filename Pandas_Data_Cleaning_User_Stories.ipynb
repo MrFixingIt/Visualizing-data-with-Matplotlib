{
 "cells": [
  {
   "cell_type": "markdown",
   "metadata": {},
   "source": [
    "## Project: Data Cleaning with Pandas\n",
    "\n",
    "#### Below will be a series of user stories, followed by an empty Python code block\n",
    "* These user stories will go through the process of importing, cleaning, and exporting the included `dirty_cars_dataset.csv` file\n",
    "* Be sure to read each question carefully, and to test and debug your code to ensure the user story is completed correctly!\n"
   ]
  },
  {
   "cell_type": "markdown",
   "metadata": {},
   "source": [
    "### As a Data Analyst, I want to set up the proper imports so I have access to the Pandas library"
   ]
  },
  {
   "cell_type": "code",
   "execution_count": 1,
   "metadata": {},
   "outputs": [],
   "source": [
    "import pandas as pd"
   ]
  },
  {
   "cell_type": "markdown",
   "metadata": {},
   "source": [
    "### As a Data Analyst, I want to import and store the `dirty_cars_dataset.csv` file in a variable\n",
    "✅ I want to use the `index` column from this .csv file as the `index column` of my DataFrame"
   ]
  },
  {
   "cell_type": "code",
   "execution_count": null,
   "metadata": {},
   "outputs": [],
   "source": [
    "dirty_cars_df = pd.read_csv(\"dirty_cars_dataset.csv\")\n",
    "print(dirty_cars_df)"
   ]
  },
  {
   "cell_type": "markdown",
   "metadata": {},
   "source": [
    "### As a Data Analyst, I want to view the **information** about my new DataFrame to answer the following questions:\n",
    "##### Enter your responses in the Markdown block below"
   ]
  },
  {
   "cell_type": "markdown",
   "metadata": {},
   "source": [
    "* How many entries are in this DataFrame: \n",
    "* How many columns are in this DataFrame:\n",
    "* Which column(s) contain null values in this DataFrame:"
   ]
  },
  {
   "attachments": {},
   "cell_type": "markdown",
   "metadata": {},
   "source": [
    "This DataFrame contains 64 rows and 10 columns.\n",
    "The price column appears to contain null values in this DataFrame."
   ]
  },
  {
   "cell_type": "markdown",
   "metadata": {},
   "source": [
    "### As a Data Analyst, I want to to remove any null values from the DataFrame\n",
    "✅ I want to **create a new DataFrame variable** when I remove these null values<br>\n",
    "✅ Then, I want to display the **information** about my new DataFrame, to confirm the null values were successfully removed"
   ]
  },
  {
   "cell_type": "code",
   "execution_count": null,
   "metadata": {},
   "outputs": [],
   "source": [
    "nonnull_dirty_cars_df = dirty_cars_df.dropna()\n",
    "nonnull_dirty_cars_df.info()\n",
    "print(nonnull_dirty_cars_df)"
   ]
  },
  {
   "cell_type": "markdown",
   "metadata": {},
   "source": [
    "### As a Data Analyst, I want to check if there are any **duplicate rows** within my DataFrame"
   ]
  },
  {
   "cell_type": "code",
   "execution_count": null,
   "metadata": {},
   "outputs": [],
   "source": [
    "find_dupes_df = nonnull_dirty_cars_df.duplicated()\n",
    "print(find_dupes_df.to_string())\n"
   ]
  },
  {
   "cell_type": "markdown",
   "metadata": {},
   "source": [
    "### As a Data Analyst, I want to **remove** any duplicate values from the DataFrame\n",
    "✅ I want to **create a new DataFrame variable** when I remove these duplicate values<br>\n",
    "✅ I want to again check if there are any duplicate rows within my DataFrame, to ensure the values were removed successfully"
   ]
  },
  {
   "cell_type": "code",
   "execution_count": 38,
   "metadata": {},
   "outputs": [],
   "source": [
    "dupes_removed_df = nonnull_dirty_cars_df.drop_duplicates()\n",
    "# print(dupes_removed_df)"
   ]
  },
  {
   "cell_type": "markdown",
   "metadata": {},
   "source": [
    "### As a Data Analyst, I want to ensure I remove any outlier values from my DataFrame to avoid inaccurate analysis of my data\n",
    "✅I want to **create a new DataFrame variable** when I remove these values<br><br>\n",
    "💡 **Hint:** These inaccuracies will be within the `price` column 💡<br><br>\n",
    "💡 **Hint** There will be both **high** and **low** outlier values 💡"
   ]
  },
  {
   "cell_type": "code",
   "execution_count": 37,
   "metadata": {},
   "outputs": [],
   "source": [
    "# Removing high outlier values\n",
    "find_outliers_df = dupes_removed_df.sort_values(\"price\")\n",
    "# print(find_outliers_df.to_string())\n",
    "\n",
    "high_outlier_removed = find_outliers_df.drop(labels=2)\n",
    "all_outliers_removed = high_outlier_removed.drop(labels=42)\n",
    "\n",
    "# print(all_outliers_removed.to_string())"
   ]
  },
  {
   "cell_type": "markdown",
   "metadata": {},
   "source": [
    "### As a Data Analyst, I want to reformat the **company** series, ensuring all company name values are properly title (Pascal) cased"
   ]
  },
  {
   "cell_type": "code",
   "execution_count": 36,
   "metadata": {},
   "outputs": [],
   "source": [
    "# renamed_df = all_outliers_removed.rename(columns={ \"company\": \"Company\"})\n",
    "# print(renamed_df.to_string())\n",
    "\n",
    "all_outliers_removed[\"company\"]= all_outliers_removed[\"company\"].str.title()\n",
    "# all_outliers_removed.to_string()"
   ]
  },
  {
   "cell_type": "markdown",
   "metadata": {},
   "source": [
    "### As a Data Analyst, I want to create a ***new*** column on my DataFrame to represent the **price of each car in Euros**\n",
    "💡 **Use the conversion rate 1.05 USD == 1 Euro** 💡"
   ]
  },
  {
   "cell_type": "code",
   "execution_count": 35,
   "metadata": {},
   "outputs": [],
   "source": [
    "all_outliers_removed[\"price in euros\"] = all_outliers_removed [\"price\"] * 1.05\n",
    "# all_outliers_removed"
   ]
  },
  {
   "cell_type": "markdown",
   "metadata": {},
   "source": [
    "### As a Data Analyst, I want to rename the existing **price** column to show that it represents **price in USD**"
   ]
  },
  {
   "cell_type": "code",
   "execution_count": 34,
   "metadata": {},
   "outputs": [],
   "source": [
    "updated_df = all_outliers_removed.rename(columns= {\"price\": \"price in USD\"})\n",
    "# updated_df"
   ]
  },
  {
   "cell_type": "markdown",
   "metadata": {},
   "source": [
    "### As a Data Analyst, I want to output my cleaned DataFrame as a .csv file\n",
    "✅ I want to name this file `cleaned_cars_dataset.csv`<br>\n",
    "✅ I want to specify the encoding type 'utf-8'<br>\n",
    "✅ I want to include this .csv file in my GitHub repository"
   ]
  },
  {
   "cell_type": "code",
   "execution_count": 39,
   "metadata": {},
   "outputs": [],
   "source": [
    "# cleaned_cars_dataset.csv = updated_df.to_csv\n",
    "updated_df.to_csv(\"cleaned_cars_dataset.csv\", encoding=\"utf-8\")"
   ]
  }
 ],
 "metadata": {
  "kernelspec": {
   "display_name": "Python 3",
   "language": "python",
   "name": "python3"
  },
  "language_info": {
   "codemirror_mode": {
    "name": "ipython",
    "version": 3
   },
   "file_extension": ".py",
   "mimetype": "text/x-python",
   "name": "python",
   "nbconvert_exporter": "python",
   "pygments_lexer": "ipython3",
   "version": "3.11.1 (tags/v3.11.1:a7a450f, Dec  6 2022, 19:58:39) [MSC v.1934 64 bit (AMD64)]"
  },
  "orig_nbformat": 4,
  "vscode": {
   "interpreter": {
    "hash": "449a19e61c7785d73827a85478759be1933430c49a3a03f014330ec51d6267cb"
   }
  }
 },
 "nbformat": 4,
 "nbformat_minor": 2
}
